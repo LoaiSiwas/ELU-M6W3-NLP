{
 "cells": [
  {
   "attachments": {},
   "cell_type": "markdown",
   "id": "cf9e072d",
   "metadata": {},
   "source": [
    "# M6- W3 Assignment: NLP\n",
    "\n",
    "Student: Loai Siwas"
   ]
  },
  {
   "attachments": {},
   "cell_type": "markdown",
   "id": "6bf70e0f",
   "metadata": {},
   "source": [
    "Natural language processing (NLP) is an important and rapidly developing part of machine learning. New powerful  models (the so-called transformer type) appear regularly and each new one outperforms the previous one in a fundamental NLP task, such as question-answering, name-entity recognition, etc. However, often simple, classical methods tend to work quite well and are a good first approach to solve many NLP problems.\n",
    "\n",
    "In this assignment, you will work with a famous data set for sentiment analysis, namely the Amazon reviews data set. One place where the data can be found is here: https://www.kaggle.com/bittlingmayer/amazonreviews\n",
    "\n",
    "\n",
    "1. Download and import the training and testing data sets. It’s not in a usual .csv format, so the below code can help you transform it to a pandas data frame.\n",
    "\n",
    "\n",
    "```python\n",
    "   import bz2\n",
    "   train_file = bz2.BZ2File(\"train.ft.txt.bz2\")\n",
    "   # Load and decode\n",
    "   lines = [x.decode('utf-8') for x in train_file.readlines()]\n",
    "   # Split in two: sentiment and review\n",
    "   score_review_list = [l.strip('__label__').split(' ', 1) for l in lines]\n",
    "   df = pd.DataFrame(score_review_list, columns = ['score', 'review'] )\n",
    "```\n",
    "\n",
    "2. Bonus points for extracting reviews and labels using regular expressions and named groups.\n",
    "3. Create a new feature, called ‘n_tokens’ that counts how many tokens(words) there are in a review. In other words, a feature for the length of a review.\n",
    "4. Create a new feature, called ‘language’, which detects what is the language of each review. So this feature will have a different value for each row (review) of the data.\n",
    "5. Transform each review into a numeric vector of tokens using a bag-of-words. Use can use the CountVectorizer module from sklearn but limit the maximum number of features to be 1000 to avoid memory issues (you can decrease it further if you still have memory issues). Explore the other parameters of the function as well.\n",
    "6. Using the fitted and transformed vector and the above created features, train a model that predicts the sentiment of a review. Note that this will be a classification problem. Evaluate your model and motivate your choice of a performance metric.(Hint: the feature for language is of type ‘object’, you may want to transform it to binary, such that it is 1 if the language is in English, 0 otherwise).\n",
    "\n",
    "Submit your solution in a Jupyter notebook and optionally, a link to a GitHub repo where you have also uploaded your code."
   ]
  },
  {
   "attachments": {},
   "cell_type": "markdown",
   "id": "bc6ff294",
   "metadata": {},
   "source": [
    "---\n",
    "#### Part 1: Downloading the dataset\n",
    "---"
   ]
  },
  {
   "cell_type": "code",
   "execution_count": 1,
   "id": "8a3a1456",
   "metadata": {},
   "outputs": [],
   "source": [
    "# import libraries and packages here\n",
    "import pandas as pd\n",
    "import bz2"
   ]
  },
  {
   "cell_type": "code",
   "execution_count": 2,
   "id": "dd2eba62",
   "metadata": {},
   "outputs": [],
   "source": [
    "# importing the train dataset\n",
    "\n",
    "train_file = bz2.BZ2File(\"train.ft.txt.bz2\") # open the file\n",
    "\n",
    "# Load and decode\n",
    "lines = [x.decode('utf-8') for x in train_file.readlines()] # decode the file\n",
    "\n",
    "# Split in two: sentiment and review\n",
    "score_review_list = [l.strip('__label__').split(' ', 1) for l in lines] # strip the label and split the score and review\n",
    "\n",
    "train_df = pd.DataFrame(score_review_list, columns = ['score', 'review'] ) # create a dataframe with the score and review"
   ]
  },
  {
   "cell_type": "code",
   "execution_count": 3,
   "id": "234de96b",
   "metadata": {},
   "outputs": [
    {
     "data": {
      "text/plain": [
       "(3600000, 2)"
      ]
     },
     "execution_count": 3,
     "metadata": {},
     "output_type": "execute_result"
    }
   ],
   "source": [
    "train_df.shape # check the shape of the train data"
   ]
  },
  {
   "cell_type": "code",
   "execution_count": 4,
   "id": "67ad1ec1",
   "metadata": {},
   "outputs": [
    {
     "data": {
      "text/html": [
       "<div>\n",
       "<style scoped>\n",
       "    .dataframe tbody tr th:only-of-type {\n",
       "        vertical-align: middle;\n",
       "    }\n",
       "\n",
       "    .dataframe tbody tr th {\n",
       "        vertical-align: top;\n",
       "    }\n",
       "\n",
       "    .dataframe thead th {\n",
       "        text-align: right;\n",
       "    }\n",
       "</style>\n",
       "<table border=\"1\" class=\"dataframe\">\n",
       "  <thead>\n",
       "    <tr style=\"text-align: right;\">\n",
       "      <th></th>\n",
       "      <th>score</th>\n",
       "      <th>review</th>\n",
       "    </tr>\n",
       "  </thead>\n",
       "  <tbody>\n",
       "    <tr>\n",
       "      <th>0</th>\n",
       "      <td>2</td>\n",
       "      <td>Stuning even for the non-gamer: This sound tra...</td>\n",
       "    </tr>\n",
       "    <tr>\n",
       "      <th>1</th>\n",
       "      <td>2</td>\n",
       "      <td>The best soundtrack ever to anything.: I'm rea...</td>\n",
       "    </tr>\n",
       "  </tbody>\n",
       "</table>\n",
       "</div>"
      ],
      "text/plain": [
       "  score                                             review\n",
       "0     2  Stuning even for the non-gamer: This sound tra...\n",
       "1     2  The best soundtrack ever to anything.: I'm rea..."
      ]
     },
     "execution_count": 4,
     "metadata": {},
     "output_type": "execute_result"
    }
   ],
   "source": [
    "train_df.head(2) # check the first 2 rows of the train data"
   ]
  },
  {
   "cell_type": "code",
   "execution_count": 5,
   "id": "fc02fc52",
   "metadata": {},
   "outputs": [],
   "source": [
    "# importing the test dataset\n",
    "\n",
    "test_file = bz2.BZ2File(\"test.ft.txt.bz2\") # open the file\n",
    "# Load and decode\n",
    "lines = [x.decode('utf-8') for x in test_file.readlines()] # decode the file\n",
    "\n",
    "# Split in two: sentiment and review\n",
    "score_review_list = [l.strip('__label__').split(' ', 1) for l in lines] # strip the label and split the score and review\n",
    "\n",
    "test_df = pd.DataFrame(score_review_list, columns = ['score', 'review'] ) # create a dataframe with the score and review"
   ]
  },
  {
   "cell_type": "code",
   "execution_count": 6,
   "id": "aacb19fe",
   "metadata": {},
   "outputs": [
    {
     "data": {
      "text/plain": [
       "(400000, 2)"
      ]
     },
     "execution_count": 6,
     "metadata": {},
     "output_type": "execute_result"
    }
   ],
   "source": [
    "test_df.shape # check the shape of the test data"
   ]
  },
  {
   "cell_type": "code",
   "execution_count": 7,
   "id": "5dbaa6ca",
   "metadata": {},
   "outputs": [
    {
     "data": {
      "text/html": [
       "<div>\n",
       "<style scoped>\n",
       "    .dataframe tbody tr th:only-of-type {\n",
       "        vertical-align: middle;\n",
       "    }\n",
       "\n",
       "    .dataframe tbody tr th {\n",
       "        vertical-align: top;\n",
       "    }\n",
       "\n",
       "    .dataframe thead th {\n",
       "        text-align: right;\n",
       "    }\n",
       "</style>\n",
       "<table border=\"1\" class=\"dataframe\">\n",
       "  <thead>\n",
       "    <tr style=\"text-align: right;\">\n",
       "      <th></th>\n",
       "      <th>score</th>\n",
       "      <th>review</th>\n",
       "    </tr>\n",
       "  </thead>\n",
       "  <tbody>\n",
       "    <tr>\n",
       "      <th>0</th>\n",
       "      <td>2</td>\n",
       "      <td>Great CD: My lovely Pat has one of the GREAT v...</td>\n",
       "    </tr>\n",
       "    <tr>\n",
       "      <th>1</th>\n",
       "      <td>2</td>\n",
       "      <td>One of the best game music soundtracks - for a...</td>\n",
       "    </tr>\n",
       "    <tr>\n",
       "      <th>2</th>\n",
       "      <td>1</td>\n",
       "      <td>Batteries died within a year ...: I bought thi...</td>\n",
       "    </tr>\n",
       "    <tr>\n",
       "      <th>3</th>\n",
       "      <td>2</td>\n",
       "      <td>works fine, but Maha Energy is better: Check o...</td>\n",
       "    </tr>\n",
       "    <tr>\n",
       "      <th>4</th>\n",
       "      <td>2</td>\n",
       "      <td>Great for the non-audiophile: Reviewed quite a...</td>\n",
       "    </tr>\n",
       "  </tbody>\n",
       "</table>\n",
       "</div>"
      ],
      "text/plain": [
       "  score                                             review\n",
       "0     2  Great CD: My lovely Pat has one of the GREAT v...\n",
       "1     2  One of the best game music soundtracks - for a...\n",
       "2     1  Batteries died within a year ...: I bought thi...\n",
       "3     2  works fine, but Maha Energy is better: Check o...\n",
       "4     2  Great for the non-audiophile: Reviewed quite a..."
      ]
     },
     "execution_count": 7,
     "metadata": {},
     "output_type": "execute_result"
    }
   ],
   "source": [
    "test_df.head(5) # check the first 2 rows of the test data"
   ]
  },
  {
   "attachments": {},
   "cell_type": "markdown",
   "id": "749877e7",
   "metadata": {},
   "source": [
    "---\n",
    "#### Part 2: extracting reviews and labels using regular expressions and named groups. (for the Bonus points)\n",
    "---"
   ]
  },
  {
   "cell_type": "code",
   "execution_count": 1,
   "id": "438c1b8a",
   "metadata": {},
   "outputs": [],
   "source": [
    "# import libraries and packages here\n",
    "import pandas as pd\n",
    "import bz2\n",
    "import re"
   ]
  },
  {
   "cell_type": "code",
   "execution_count": 9,
   "metadata": {},
   "outputs": [],
   "source": [
    "# Define the regular expression pattern to extract the labels and reviews\n",
    "pattern = r\"(__label__(\\d+)\\s+)(.*)\""
   ]
  },
  {
   "cell_type": "code",
   "execution_count": 10,
   "id": "09f8726b",
   "metadata": {},
   "outputs": [],
   "source": [
    "# Open the compressed file and read its content for the training data\n",
    "with bz2.open('train.ft.txt.bz2', 'rt', encoding='utf-8') as file:\n",
    "    content = file.readlines()\n",
    "\n",
    "# Initialize an empty list to store the extracted data\n",
    "data = []\n",
    "\n",
    "# Extract the labels and reviews using regular expressions\n",
    "for line in content:\n",
    "    match = re.match(pattern, line)\n",
    "    if match:\n",
    "        label = int(match.group(2))\n",
    "        review = match.group(3)\n",
    "        data.append({'score': label, 'review': review})\n",
    "\n",
    "# Create a pandas DataFrame from the extracted data\n",
    "train_df = pd.DataFrame(data)"
   ]
  },
  {
   "cell_type": "code",
   "execution_count": 11,
   "id": "fa300c7d",
   "metadata": {},
   "outputs": [
    {
     "data": {
      "text/plain": [
       "(3600000, 2)"
      ]
     },
     "execution_count": 11,
     "metadata": {},
     "output_type": "execute_result"
    }
   ],
   "source": [
    "train_df.shape # check the shape of the train data"
   ]
  },
  {
   "cell_type": "code",
   "execution_count": 12,
   "id": "0acdaabe",
   "metadata": {},
   "outputs": [
    {
     "data": {
      "text/html": [
       "<div>\n",
       "<style scoped>\n",
       "    .dataframe tbody tr th:only-of-type {\n",
       "        vertical-align: middle;\n",
       "    }\n",
       "\n",
       "    .dataframe tbody tr th {\n",
       "        vertical-align: top;\n",
       "    }\n",
       "\n",
       "    .dataframe thead th {\n",
       "        text-align: right;\n",
       "    }\n",
       "</style>\n",
       "<table border=\"1\" class=\"dataframe\">\n",
       "  <thead>\n",
       "    <tr style=\"text-align: right;\">\n",
       "      <th></th>\n",
       "      <th>score</th>\n",
       "      <th>review</th>\n",
       "    </tr>\n",
       "  </thead>\n",
       "  <tbody>\n",
       "    <tr>\n",
       "      <th>0</th>\n",
       "      <td>2</td>\n",
       "      <td>Stuning even for the non-gamer: This sound tra...</td>\n",
       "    </tr>\n",
       "    <tr>\n",
       "      <th>1</th>\n",
       "      <td>2</td>\n",
       "      <td>The best soundtrack ever to anything.: I'm rea...</td>\n",
       "    </tr>\n",
       "  </tbody>\n",
       "</table>\n",
       "</div>"
      ],
      "text/plain": [
       "   score                                             review\n",
       "0      2  Stuning even for the non-gamer: This sound tra...\n",
       "1      2  The best soundtrack ever to anything.: I'm rea..."
      ]
     },
     "execution_count": 12,
     "metadata": {},
     "output_type": "execute_result"
    }
   ],
   "source": [
    "train_df.head(2) # check the first 2 rows of the train data"
   ]
  },
  {
   "cell_type": "code",
   "execution_count": 13,
   "id": "afae11eb",
   "metadata": {},
   "outputs": [],
   "source": [
    "# Open the compressed file and read its content for the test data\n",
    "with bz2.open('test.ft.txt.bz2', 'rt', encoding='utf-8') as file:\n",
    "    content = file.readlines()\n",
    "\n",
    "# Initialize an empty list to store the extracted data\n",
    "data = []\n",
    "\n",
    "# Extract the labels and reviews using regular expressions\n",
    "for line in content:\n",
    "    match = re.match(pattern, line)\n",
    "    if match:\n",
    "        label = int(match.group(2))\n",
    "        review = match.group(3)\n",
    "        data.append({'score': label, 'review': review})\n",
    "\n",
    "# Create a pandas DataFrame from the extracted data\n",
    "test_df = pd.DataFrame(data)"
   ]
  },
  {
   "cell_type": "code",
   "execution_count": 14,
   "id": "92567e2f",
   "metadata": {},
   "outputs": [
    {
     "data": {
      "text/plain": [
       "(400000, 2)"
      ]
     },
     "execution_count": 14,
     "metadata": {},
     "output_type": "execute_result"
    }
   ],
   "source": [
    "test_df.shape # check the shape of the train data"
   ]
  },
  {
   "cell_type": "code",
   "execution_count": 15,
   "id": "dc225dbf",
   "metadata": {},
   "outputs": [
    {
     "data": {
      "text/html": [
       "<div>\n",
       "<style scoped>\n",
       "    .dataframe tbody tr th:only-of-type {\n",
       "        vertical-align: middle;\n",
       "    }\n",
       "\n",
       "    .dataframe tbody tr th {\n",
       "        vertical-align: top;\n",
       "    }\n",
       "\n",
       "    .dataframe thead th {\n",
       "        text-align: right;\n",
       "    }\n",
       "</style>\n",
       "<table border=\"1\" class=\"dataframe\">\n",
       "  <thead>\n",
       "    <tr style=\"text-align: right;\">\n",
       "      <th></th>\n",
       "      <th>score</th>\n",
       "      <th>review</th>\n",
       "    </tr>\n",
       "  </thead>\n",
       "  <tbody>\n",
       "    <tr>\n",
       "      <th>0</th>\n",
       "      <td>2</td>\n",
       "      <td>Great CD: My lovely Pat has one of the GREAT v...</td>\n",
       "    </tr>\n",
       "    <tr>\n",
       "      <th>1</th>\n",
       "      <td>2</td>\n",
       "      <td>One of the best game music soundtracks - for a...</td>\n",
       "    </tr>\n",
       "  </tbody>\n",
       "</table>\n",
       "</div>"
      ],
      "text/plain": [
       "   score                                             review\n",
       "0      2  Great CD: My lovely Pat has one of the GREAT v...\n",
       "1      2  One of the best game music soundtracks - for a..."
      ]
     },
     "execution_count": 15,
     "metadata": {},
     "output_type": "execute_result"
    }
   ],
   "source": [
    "test_df.head(2) # check the first 2 rows of the train data"
   ]
  },
  {
   "attachments": {},
   "cell_type": "markdown",
   "id": "a180edce",
   "metadata": {},
   "source": [
    "---\n",
    "#### Part 3: Create a new feature, called ‘n_tokens’ that counts how many tokens(words) there are in a review. In other words, a feature for the length of a review.:\n",
    "---"
   ]
  },
  {
   "cell_type": "code",
   "execution_count": 16,
   "id": "44ae6870",
   "metadata": {},
   "outputs": [],
   "source": [
    "# Create the 'n_tokens' column by counting the number of tokens in each review\n",
    "train_df['n_tokens'] = train_df['review'].apply(lambda x: len(x.split()))"
   ]
  },
  {
   "cell_type": "code",
   "execution_count": 17,
   "id": "1c2ef73a",
   "metadata": {},
   "outputs": [
    {
     "data": {
      "text/plain": [
       "(3600000, 3)"
      ]
     },
     "execution_count": 17,
     "metadata": {},
     "output_type": "execute_result"
    }
   ],
   "source": [
    "train_df.shape # check the shape of the train data"
   ]
  },
  {
   "cell_type": "code",
   "execution_count": 18,
   "id": "636bec0f",
   "metadata": {},
   "outputs": [
    {
     "data": {
      "text/html": [
       "<div>\n",
       "<style scoped>\n",
       "    .dataframe tbody tr th:only-of-type {\n",
       "        vertical-align: middle;\n",
       "    }\n",
       "\n",
       "    .dataframe tbody tr th {\n",
       "        vertical-align: top;\n",
       "    }\n",
       "\n",
       "    .dataframe thead th {\n",
       "        text-align: right;\n",
       "    }\n",
       "</style>\n",
       "<table border=\"1\" class=\"dataframe\">\n",
       "  <thead>\n",
       "    <tr style=\"text-align: right;\">\n",
       "      <th></th>\n",
       "      <th>score</th>\n",
       "      <th>review</th>\n",
       "      <th>n_tokens</th>\n",
       "    </tr>\n",
       "  </thead>\n",
       "  <tbody>\n",
       "    <tr>\n",
       "      <th>0</th>\n",
       "      <td>2</td>\n",
       "      <td>Stuning even for the non-gamer: This sound tra...</td>\n",
       "      <td>80</td>\n",
       "    </tr>\n",
       "    <tr>\n",
       "      <th>1</th>\n",
       "      <td>2</td>\n",
       "      <td>The best soundtrack ever to anything.: I'm rea...</td>\n",
       "      <td>97</td>\n",
       "    </tr>\n",
       "  </tbody>\n",
       "</table>\n",
       "</div>"
      ],
      "text/plain": [
       "   score                                             review  n_tokens\n",
       "0      2  Stuning even for the non-gamer: This sound tra...        80\n",
       "1      2  The best soundtrack ever to anything.: I'm rea...        97"
      ]
     },
     "execution_count": 18,
     "metadata": {},
     "output_type": "execute_result"
    }
   ],
   "source": [
    "# Print the first 2 rows of the DataFrame with the 'n_tokens' column\n",
    "train_df.head(2)"
   ]
  },
  {
   "attachments": {},
   "cell_type": "markdown",
   "id": "7a3a1ac3",
   "metadata": {},
   "source": [
    "---\n",
    "#### Part 4: Create a new feature, called ‘language’, which detects what is the language of each review. So this feature will have a different value for each row (review) of the data.:\n",
    "---"
   ]
  },
  {
   "cell_type": "code",
   "execution_count": 10,
   "id": "9c62bac9",
   "metadata": {},
   "outputs": [],
   "source": [
    "# import libraries and packages here\n",
    "from langdetect import detect # or we can use from polyglot.detect import Detector"
   ]
  },
  {
   "cell_type": "code",
   "execution_count": 11,
   "id": "4f82d036",
   "metadata": {},
   "outputs": [
    {
     "name": "stdout",
     "output_type": "stream",
     "text": [
      "This row throws an error: ........: ............ ..... ..... ...... ...... ....... ..... ....... ....... ........ ......... ........ ........ ..... ......... ..... ..... ...... .. ......\n",
      "This row throws an error: 47382 75983 37483 83740!: 38493 34740 47383 37054 48624 78568? 18581 28682 18558 24866 22584 24995 26484 14589 15648 15486 73893. 77504 03478 47589 43705 47309 67490 27348 57490 57409 37405 40978, 39794 (39847 57303 57049 32740 57403) 75093 47309 47328 54798 68978 97231 23473 34785 34097 34097. 34987: 34908 74309 34709 34908 40700 34087 45709 39874 97865 53586 97423 64987 36549 $54868 97668 52585 58855 93633 48457 20385 49884. 57430 34094 08908 34098 & 30409 08745 72009 23730 40508%. 24094 32098 00908 34042 20835 27789 29735 #93487 98743 32907 75928 29873 29723 54097 29735 29357 40540 34094 21009 08423 40755 09725. 25097 45097 23099 23073@03550.23405 23098, 50983 20408 60846 23974 90766.\n",
      "This row throws an error: &#4321;&#4304;&#4311;&#4304;&#4323;&#4320;&#4312;: &#4315;&#4304;&#4306;&#4304;&#4320;&#4312;&#4304;,&#4304;&#4325; &#4320;&#4304;&#4330; &#4312;&#4327;&#4312;&#4307;&#4308;&#4305;&#4304; &#4327;&#4309;&#4308;&#4314;&#4304;&#4321; &#4335;&#4317;&#4305;&#4312;&#4304; &#4334;&#4304;&#4320;&#4312;&#4321;&#4334;&#4312;&#4311;, &#4324;&#4304;&#4321;&#4312;&#4330; &#4315;&#4312;&#4321;&#4304;&#4326;&#4308;&#4305;&#4312;&#4304;.&#4321;&#4304;&#4321;&#4323;&#4320;&#4309;&#4308;&#4314;&#4312;&#4304; &#4327;&#4309;&#4308;&#4314;&#4304;&#4324;&#4308;&#4320;&#4312; &#4304;&#4321;&#4308;&#4311;&#4312; &#4334;&#4304;&#4320;&#4312;&#4321;&#4334;&#4312;&#4321; &#4320;&#4317;&#4315; &#4312;&#4327;&#4317;&#4321; &#4311;&#4325;&#4309;&#4308;&#4316;&#4321; &#4309;&#4308;&#4305; &#4306;&#4309;&#4308;&#4320;&#4310;&#4308;.&#4315;&#4308;&#4322;&#4312; &#4320;&#4304; &#4306;&#4312;&#4311;&#4334;&#4320;&#4304;\n",
      "This row throws an error: &#1605;&#1593; &#1575;&#1604;&#1575;&#1587;&#1601;: &#1575;&#1606;&#1578;&#1605; &#1594;&#1610;&#1585; &#1589;&#1575;&#1583;&#1602;&#1610;&#1606; &#1605;&#1593;&#1606;&#1575; &#1603;&#1608;&#1606;&#1603;&#1605; &#1576;&#1593;&#1578;&#1605; &#1604;&#1606;&#1575; &#1607;&#1607; &#1575;&#1604;&#1603;&#1575;&#1605;&#1610;&#1585;&#1577; &#1608;&#1601;&#1610;&#1607;&#1575; &#1593;&#1591;&#1604; &#1608;&#1604;&#1605; &#1578;&#1602;&#1608;&#1604;&#1608;&#1575; &#1588;&#1610; &#1601;&#1575;&#1606;&#1578;&#1605; &#1587;&#1610;&#1574;&#1610;&#1606; &#1580;&#1583;&#1575; &#1608;&#1604;&#1587;&#1578;&#1605; &#1575;&#1607;&#1604; &#1604;&#1604;&#1579;&#1602;&#1577;\n",
      "This row throws an error: &#1054;&#1090;&#1083;&#1080;&#1095;&#1085;&#1086;: &#1042;&#1089;&#1077; &#1087;&#1088;&#1080;&#1096;&#1083;&#1086; &#1074;&#1086;&#1074;&#1088;&#1077;&#1084;&#1103;, &#1087;&#1086;&#1082;&#1091;&#1087;&#1082;&#1086;&#1081; &#1076;&#1086;&#1074;&#1086;&#1083;&#1077;&#1085;, &#1073;&#1091;&#1076;&#1091; &#1079;&#1072;&#1082;&#1072;&#1079;&#1099;&#1074;&#1072;&#1090;&#1100; &#1077;&#1097;&#1077;. &#1044;&#1091;&#1093;&#1080; &#1087;&#1086;&#1085;&#1088;&#1072;&#1074;&#1080;&#1083;&#1080;&#1089;&#1100; &#1076;&#1072;&#1074;&#1085;&#1086;, &#1074; &#1056;&#1086;&#1089;&#1089;&#1080;&#1080; &#1094;&#1077;&#1085;&#1085;&#1080;&#1082; &#1074;&#1099;&#1096;&#1077;, &#1074;&#1086;&#1090; &#1088;&#1077;&#1096;&#1080;&#1083; &#1095;&#1077;&#1088;&#1077;&#1079; &#1040;&#1084;&#1072;&#1079;&#1086;&#1085; &#1089;&#1076;&#1077;&#1083;&#1072;&#1090;&#1100; &#1087;&#1086;&#1082;&#1091;&#1087;&#1082;&#1091; &#1080; &#1086;&#1089;&#1090;&#1072;&#1083;&#1089;&#1103; &#1076;&#1086;&#1074;&#1086;&#1083;&#1077;&#1085;.\n",
      "This row throws an error: !: !!!!! ! 1 !!!!!!!!!! 234 !!!!!!!! 2 !! 34 !!!! 12 !!!! 35678 !!!! 23 !!! 2459!!! 12!!! 2345!!! 12357!!! !!!!! 2582!!!! 1321!!! 23!! 111!! !!!211 !!! 24731! ! !!!! 147584!!! !! !\n",
      "This row throws an error: &#12493;&#12472;&#12398;&#31934;&#24230;&#12364;&#24746;&#12356;: &#12479;&#12483;&#12503; &#12398; &#20869;&#20596;&#12414;&#12391; &#12289; &#20998;&#21402;&#12356; &#22615;&#35013;&#12364; &#20055;&#12387;&#12390;&#12362;&#12426; &#12289;&#12497;&#12452;&#12503; &#12364; &#20104;&#23450; &#12398; &#20301;&#32622; &#12414;&#12391;&#12289;&#12397;&#12376;&#36796;&#12417;&#12414;&#12379;&#12435; &#12290;&#12392;&#12390;&#12418; &#27531;&#24565; &#12391;&#12377; &#12290;&#33109;&#12364;&#38263;&#12367;&#12390;&#12289; &#20195;&#12426;&#12364;&#28961;&#12356;&#12398;&#12391; &#12289;&#12392;&#12390;&#12418;&#26399;&#24453;&#12375;&#12390;&#12356;&#12383;&#12384;&#12369;&#12395;&#12289;&#27531;&#24565;&#12391;&#12377;&#12290;\n",
      "This row throws an error: &#1605;&#1605;&#1578;&#1575;&#1586;: &#1579;&#1604;&#1575;&#1579;&#1577; &#1602;&#1591;&#1593; &#1605;&#1605;&#1578;&#1575;&#1586;&#1577; &#1604;&#1604;&#1601;&#1585;&#1588;&#1575;&#1577; &#1575;&#1608;&#1585;&#1604; &#1576;&#1610; &#1608;&#1575;&#1589;&#1604;&#1610;&#1577; &#1608;&#1580;&#1608;&#1583;&#1578;&#1607;&#1575; &#1605;&#1605;&#1578;&#1575;&#1586;&#1577; &#1608;&#1587;&#1593;&#1585;&#1607;&#1575; &#1605;&#1606;&#1575;&#1587;&#1576; &#1580;&#1583;&#1575;&#1608;&#1587;&#1607;&#1604;&#1577; &#1575;&#1604;&#1578;&#1606;&#1592;&#1610;&#1601; &#1608;&#1593;&#1605;&#1604;&#1610;&#1577; &#1580;&#1583;&#1575; &#1608;&#1576;&#1575;&#1604;&#1591;&#1576;&#1593; &#1575;&#1606;&#1589;&#1581; &#1576;&#1607;&#1575; &#1575;\n",
      "This row throws an error: &#51088;&#47476;&#45716; &#52860;&#44057;&#51008; &#44396;&#49457;&#46020; &#54596;&#50836;&#54644;&#50836;.: &#47784;&#46160; &#45208;&#47924;&#47196; &#46104;&#50612;&#51080;&#44256; &#44032;&#44201;&#51339;&#50500;&#49436; &#50864;&#49440;&#47564;&#51313;, &#50724;&#47480;&#51901; &#46041;&#44536;&#46976;&#44148; &#46020;&#50864;&#44032; &#52860;&#46972;&#48324;&#47196; &#51312;&#44552;&#50473; &#46308;&#50612;&#51080;&#45716; &#52992;&#51060;&#49828; &#51060;&#44396;&#50836;. &#46748;&#44753;&#48512;&#48516;&#51008; &#46041;&#47932;&#47784;&#50577;&#51012; &#52237;&#51012;&#49688; &#51080;&#44172; &#46104;&#50612;&#51080;&#50612;&#50836;. &#47924;&#45740;&#44057;&#51008;&#44148; &#44316;&#52270;&#51008;&#45936; &#51088;&#47476;&#45716; &#52860; &#54620;&#46160;&#44060; &#51221;&#46020; &#44396;&#49457;&#51060; &#45908; &#52628;&#44032; &#46104;&#50632;&#51004;&#47732; &#54616;&#45716; &#48148;&#47016;&#51077;&#45768;&#45796;~\n",
      "This row throws an error: -_-: ' ' '''' '''' '' '' ''' '''''? '' '' ' '' ''' '''' ''' ''''''''' '''' ''' ''' '''' '' ''''? '' '''''. ''' ''''''' ''' '''''' '''' '''?? ' '' ''' '. '''''' ''' '' ''' ''' '''' ''. '' ''' '''' ''''' '''' ''' '' ''' ' ''' '''' '' '''' '''...\n"
     ]
    }
   ],
   "source": [
    "for index, row in train_df.iterrows():\n",
    "    try:\n",
    "        language = detect(row['review'])\n",
    "    except:\n",
    "        language = 0\n",
    "        print(\"This row throws an error:\", row['review'])\n",
    "    train_df.loc[index, 'language'] = language"
   ]
  },
  {
   "cell_type": "code",
   "execution_count": 12,
   "id": "4af3b087",
   "metadata": {},
   "outputs": [
    {
     "data": {
      "text/plain": [
       "(3600000, 4)"
      ]
     },
     "execution_count": 12,
     "metadata": {},
     "output_type": "execute_result"
    }
   ],
   "source": [
    "train_df.shape # check the shape of the train data"
   ]
  },
  {
   "cell_type": "code",
   "execution_count": 13,
   "id": "f88e81d8",
   "metadata": {},
   "outputs": [
    {
     "data": {
      "text/html": [
       "<div>\n",
       "<style scoped>\n",
       "    .dataframe tbody tr th:only-of-type {\n",
       "        vertical-align: middle;\n",
       "    }\n",
       "\n",
       "    .dataframe tbody tr th {\n",
       "        vertical-align: top;\n",
       "    }\n",
       "\n",
       "    .dataframe thead th {\n",
       "        text-align: right;\n",
       "    }\n",
       "</style>\n",
       "<table border=\"1\" class=\"dataframe\">\n",
       "  <thead>\n",
       "    <tr style=\"text-align: right;\">\n",
       "      <th></th>\n",
       "      <th>score</th>\n",
       "      <th>review</th>\n",
       "      <th>n_tokens</th>\n",
       "      <th>language</th>\n",
       "    </tr>\n",
       "  </thead>\n",
       "  <tbody>\n",
       "    <tr>\n",
       "      <th>0</th>\n",
       "      <td>2</td>\n",
       "      <td>Stuning even for the non-gamer: This sound tra...</td>\n",
       "      <td>80</td>\n",
       "      <td>en</td>\n",
       "    </tr>\n",
       "    <tr>\n",
       "      <th>1</th>\n",
       "      <td>2</td>\n",
       "      <td>The best soundtrack ever to anything.: I'm rea...</td>\n",
       "      <td>97</td>\n",
       "      <td>en</td>\n",
       "    </tr>\n",
       "  </tbody>\n",
       "</table>\n",
       "</div>"
      ],
      "text/plain": [
       "   score                                             review  n_tokens language\n",
       "0      2  Stuning even for the non-gamer: This sound tra...        80       en\n",
       "1      2  The best soundtrack ever to anything.: I'm rea...        97       en"
      ]
     },
     "execution_count": 13,
     "metadata": {},
     "output_type": "execute_result"
    }
   ],
   "source": [
    "# Print the first 2 rows of the DataFrame with the 'n_tokens' column\n",
    "train_df.head(2)"
   ]
  },
  {
   "attachments": {},
   "cell_type": "markdown",
   "id": "21239ba7",
   "metadata": {},
   "source": [
    "---"
   ]
  },
  {
   "attachments": {},
   "cell_type": "markdown",
   "id": "138f9464",
   "metadata": {},
   "source": [
    "**Note:**\n",
    "The above code took 326m 58.7s to detect the language, that is, about five and a half hours, so I saved the data frame as a CSV file, and then re-read it and completed the work, to avoid running the code repeatedly in each modification, it can be considered as a checkpoint."
   ]
  },
  {
   "cell_type": "code",
   "execution_count": 15,
   "id": "7fb6c3d1",
   "metadata": {},
   "outputs": [],
   "source": [
    "# train_df.to_csv('train_df.csv', index=False) # save the train data to a csv file"
   ]
  },
  {
   "cell_type": "code",
   "execution_count": 20,
   "id": "35c82210",
   "metadata": {},
   "outputs": [],
   "source": [
    "train_df = pd.read_csv('train_df.csv') # read the train data from the csv file"
   ]
  },
  {
   "cell_type": "code",
   "execution_count": 21,
   "id": "acfb76ac",
   "metadata": {},
   "outputs": [
    {
     "data": {
      "text/plain": [
       "(3600000, 4)"
      ]
     },
     "execution_count": 21,
     "metadata": {},
     "output_type": "execute_result"
    }
   ],
   "source": [
    "train_df.shape # check the shape of the train data"
   ]
  },
  {
   "cell_type": "code",
   "execution_count": 22,
   "id": "767054a0",
   "metadata": {},
   "outputs": [
    {
     "data": {
      "text/html": [
       "<div>\n",
       "<style scoped>\n",
       "    .dataframe tbody tr th:only-of-type {\n",
       "        vertical-align: middle;\n",
       "    }\n",
       "\n",
       "    .dataframe tbody tr th {\n",
       "        vertical-align: top;\n",
       "    }\n",
       "\n",
       "    .dataframe thead th {\n",
       "        text-align: right;\n",
       "    }\n",
       "</style>\n",
       "<table border=\"1\" class=\"dataframe\">\n",
       "  <thead>\n",
       "    <tr style=\"text-align: right;\">\n",
       "      <th></th>\n",
       "      <th>score</th>\n",
       "      <th>review</th>\n",
       "      <th>n_tokens</th>\n",
       "      <th>language</th>\n",
       "    </tr>\n",
       "  </thead>\n",
       "  <tbody>\n",
       "    <tr>\n",
       "      <th>0</th>\n",
       "      <td>2</td>\n",
       "      <td>Stuning even for the non-gamer: This sound tra...</td>\n",
       "      <td>80</td>\n",
       "      <td>en</td>\n",
       "    </tr>\n",
       "    <tr>\n",
       "      <th>1</th>\n",
       "      <td>2</td>\n",
       "      <td>The best soundtrack ever to anything.: I'm rea...</td>\n",
       "      <td>97</td>\n",
       "      <td>en</td>\n",
       "    </tr>\n",
       "  </tbody>\n",
       "</table>\n",
       "</div>"
      ],
      "text/plain": [
       "   score                                             review  n_tokens language\n",
       "0      2  Stuning even for the non-gamer: This sound tra...        80       en\n",
       "1      2  The best soundtrack ever to anything.: I'm rea...        97       en"
      ]
     },
     "execution_count": 22,
     "metadata": {},
     "output_type": "execute_result"
    }
   ],
   "source": [
    "# Print the first 2 rows of the DataFrame with the 'n_tokens' column\n",
    "train_df.head(2)"
   ]
  },
  {
   "attachments": {},
   "cell_type": "markdown",
   "id": "a6464db6",
   "metadata": {},
   "source": [
    "---\n",
    "#### Part 5: Transform each review into a numeric vector of tokens using a bag-of-words. Use can use the CountVectorizer module from sklearn but limit the maximum number of features to be 1000 to avoid memory issues (you can decrease it further if you still have memory issues). Explore the other parameters of the function as well.:\n",
    "---"
   ]
  },
  {
   "cell_type": "code",
   "execution_count": 23,
   "id": "f0c610c4",
   "metadata": {},
   "outputs": [],
   "source": [
    "# import libraries and packages here\n",
    "from sklearn.feature_extraction.text import CountVectorizer"
   ]
  },
  {
   "cell_type": "code",
   "execution_count": 24,
   "id": "83d3717a",
   "metadata": {},
   "outputs": [],
   "source": [
    "# Initialize the CountVectorizer with parameters\n",
    "vectorizer = CountVectorizer(max_features=250)  # Set max_features to limit the number of features"
   ]
  },
  {
   "cell_type": "code",
   "execution_count": 25,
   "id": "44efad8c",
   "metadata": {},
   "outputs": [],
   "source": [
    "# Fit and transform the reviews into bag-of-words vectors\n",
    "X = vectorizer.fit_transform(train_df['review'])"
   ]
  },
  {
   "cell_type": "code",
   "execution_count": 26,
   "id": "5119e255",
   "metadata": {},
   "outputs": [],
   "source": [
    "# Convert the transformed vectors to a pandas DataFrame\n",
    "df_bow = pd.DataFrame(X.toarray(), columns=vectorizer.get_feature_names_out())"
   ]
  },
  {
   "cell_type": "code",
   "execution_count": 27,
   "id": "50ed5415",
   "metadata": {},
   "outputs": [
    {
     "data": {
      "text/html": [
       "<div>\n",
       "<style scoped>\n",
       "    .dataframe tbody tr th:only-of-type {\n",
       "        vertical-align: middle;\n",
       "    }\n",
       "\n",
       "    .dataframe tbody tr th {\n",
       "        vertical-align: top;\n",
       "    }\n",
       "\n",
       "    .dataframe thead th {\n",
       "        text-align: right;\n",
       "    }\n",
       "</style>\n",
       "<table border=\"1\" class=\"dataframe\">\n",
       "  <thead>\n",
       "    <tr style=\"text-align: right;\">\n",
       "      <th></th>\n",
       "      <th>about</th>\n",
       "      <th>actually</th>\n",
       "      <th>after</th>\n",
       "      <th>again</th>\n",
       "      <th>album</th>\n",
       "      <th>all</th>\n",
       "      <th>also</th>\n",
       "      <th>always</th>\n",
       "      <th>am</th>\n",
       "      <th>amazon</th>\n",
       "      <th>...</th>\n",
       "      <th>work</th>\n",
       "      <th>works</th>\n",
       "      <th>world</th>\n",
       "      <th>worth</th>\n",
       "      <th>would</th>\n",
       "      <th>written</th>\n",
       "      <th>year</th>\n",
       "      <th>years</th>\n",
       "      <th>you</th>\n",
       "      <th>your</th>\n",
       "    </tr>\n",
       "  </thead>\n",
       "  <tbody>\n",
       "    <tr>\n",
       "      <th>0</th>\n",
       "      <td>0</td>\n",
       "      <td>0</td>\n",
       "      <td>0</td>\n",
       "      <td>0</td>\n",
       "      <td>0</td>\n",
       "      <td>1</td>\n",
       "      <td>0</td>\n",
       "      <td>0</td>\n",
       "      <td>0</td>\n",
       "      <td>0</td>\n",
       "      <td>...</td>\n",
       "      <td>0</td>\n",
       "      <td>0</td>\n",
       "      <td>0</td>\n",
       "      <td>0</td>\n",
       "      <td>2</td>\n",
       "      <td>0</td>\n",
       "      <td>0</td>\n",
       "      <td>0</td>\n",
       "      <td>0</td>\n",
       "      <td>1</td>\n",
       "    </tr>\n",
       "    <tr>\n",
       "      <th>1</th>\n",
       "      <td>0</td>\n",
       "      <td>0</td>\n",
       "      <td>0</td>\n",
       "      <td>0</td>\n",
       "      <td>0</td>\n",
       "      <td>0</td>\n",
       "      <td>0</td>\n",
       "      <td>0</td>\n",
       "      <td>0</td>\n",
       "      <td>0</td>\n",
       "      <td>...</td>\n",
       "      <td>0</td>\n",
       "      <td>0</td>\n",
       "      <td>0</td>\n",
       "      <td>1</td>\n",
       "      <td>1</td>\n",
       "      <td>0</td>\n",
       "      <td>0</td>\n",
       "      <td>1</td>\n",
       "      <td>1</td>\n",
       "      <td>0</td>\n",
       "    </tr>\n",
       "  </tbody>\n",
       "</table>\n",
       "<p>2 rows × 250 columns</p>\n",
       "</div>"
      ],
      "text/plain": [
       "   about  actually  after  again  album  all  also  always  am  amazon  ...  \\\n",
       "0      0         0      0      0      0    1     0       0   0       0  ...   \n",
       "1      0         0      0      0      0    0     0       0   0       0  ...   \n",
       "\n",
       "   work  works  world  worth  would  written  year  years  you  your  \n",
       "0     0      0      0      0      2        0     0      0    0     1  \n",
       "1     0      0      0      1      1        0     0      1    1     0  \n",
       "\n",
       "[2 rows x 250 columns]"
      ]
     },
     "execution_count": 27,
     "metadata": {},
     "output_type": "execute_result"
    }
   ],
   "source": [
    "df_bow.head(2) # check the first 2 rows of the bag of words dataframe"
   ]
  },
  {
   "attachments": {},
   "cell_type": "markdown",
   "id": "e1e018b4",
   "metadata": {},
   "source": [
    "---\n",
    "#### Part 6: Using the fitted and transformed vector and the above created features, train a model that predicts the sentiment of a review. Note that this will be a classification problem. Evaluate your model and motivate your choice of a performance metric.(Hint: the feature for language is of type ‘object’, you may want to transform it to binary, such that it is 1 if the language is in English, 0 otherwise).:\n",
    "---"
   ]
  },
  {
   "cell_type": "code",
   "execution_count": 2,
   "id": "7751da81",
   "metadata": {},
   "outputs": [],
   "source": [
    "# import libraries and packages here\n",
    "from sklearn.model_selection import train_test_split\n",
    "from sklearn.ensemble import RandomForestClassifier\n",
    "from sklearn.metrics import accuracy_score"
   ]
  },
  {
   "cell_type": "code",
   "execution_count": 30,
   "id": "5b653aed",
   "metadata": {},
   "outputs": [],
   "source": [
    "# Transform the 'language' feature to binary (English or not English)\n",
    "train_df['language'] = train_df['language'].apply(lambda x: 1 if x == 'en' else 0)"
   ]
  },
  {
   "cell_type": "code",
   "execution_count": 31,
   "id": "bc61732a",
   "metadata": {},
   "outputs": [
    {
     "data": {
      "text/plain": [
       "(3600000, 4)"
      ]
     },
     "execution_count": 31,
     "metadata": {},
     "output_type": "execute_result"
    }
   ],
   "source": [
    "train_df.shape # check the shape of the train data"
   ]
  },
  {
   "cell_type": "code",
   "execution_count": 32,
   "id": "67c7600b",
   "metadata": {},
   "outputs": [
    {
     "data": {
      "text/html": [
       "<div>\n",
       "<style scoped>\n",
       "    .dataframe tbody tr th:only-of-type {\n",
       "        vertical-align: middle;\n",
       "    }\n",
       "\n",
       "    .dataframe tbody tr th {\n",
       "        vertical-align: top;\n",
       "    }\n",
       "\n",
       "    .dataframe thead th {\n",
       "        text-align: right;\n",
       "    }\n",
       "</style>\n",
       "<table border=\"1\" class=\"dataframe\">\n",
       "  <thead>\n",
       "    <tr style=\"text-align: right;\">\n",
       "      <th></th>\n",
       "      <th>score</th>\n",
       "      <th>review</th>\n",
       "      <th>n_tokens</th>\n",
       "      <th>language</th>\n",
       "    </tr>\n",
       "  </thead>\n",
       "  <tbody>\n",
       "    <tr>\n",
       "      <th>0</th>\n",
       "      <td>2</td>\n",
       "      <td>Stuning even for the non-gamer: This sound tra...</td>\n",
       "      <td>80</td>\n",
       "      <td>1</td>\n",
       "    </tr>\n",
       "    <tr>\n",
       "      <th>1</th>\n",
       "      <td>2</td>\n",
       "      <td>The best soundtrack ever to anything.: I'm rea...</td>\n",
       "      <td>97</td>\n",
       "      <td>1</td>\n",
       "    </tr>\n",
       "  </tbody>\n",
       "</table>\n",
       "</div>"
      ],
      "text/plain": [
       "   score                                             review  n_tokens  \\\n",
       "0      2  Stuning even for the non-gamer: This sound tra...        80   \n",
       "1      2  The best soundtrack ever to anything.: I'm rea...        97   \n",
       "\n",
       "   language  \n",
       "0         1  \n",
       "1         1  "
      ]
     },
     "execution_count": 32,
     "metadata": {},
     "output_type": "execute_result"
    }
   ],
   "source": [
    "# Print the first 2 rows of the DataFrame with the 'n_tokens' column\n",
    "train_df.head(2)"
   ]
  },
  {
   "cell_type": "code",
   "execution_count": 33,
   "id": "99d80ae2",
   "metadata": {},
   "outputs": [],
   "source": [
    "# Prepare the features and target variables\n",
    "X = pd.concat([train_df[['language', 'n_tokens']], df_bow], axis=1)\n",
    "y = train_df['score']"
   ]
  },
  {
   "cell_type": "code",
   "execution_count": 34,
   "id": "0de2ee60",
   "metadata": {},
   "outputs": [
    {
     "data": {
      "text/plain": [
       "(3600000, 252)"
      ]
     },
     "execution_count": 34,
     "metadata": {},
     "output_type": "execute_result"
    }
   ],
   "source": [
    "X.shape # check the shape of the features"
   ]
  },
  {
   "cell_type": "code",
   "execution_count": 35,
   "id": "ef16ffe0",
   "metadata": {},
   "outputs": [
    {
     "data": {
      "text/plain": [
       "(3600000,)"
      ]
     },
     "execution_count": 35,
     "metadata": {},
     "output_type": "execute_result"
    }
   ],
   "source": [
    "y.shape # check the shape of the target"
   ]
  },
  {
   "cell_type": "code",
   "execution_count": 18,
   "metadata": {},
   "outputs": [
    {
     "data": {
      "text/html": [
       "<div>\n",
       "<style scoped>\n",
       "    .dataframe tbody tr th:only-of-type {\n",
       "        vertical-align: middle;\n",
       "    }\n",
       "\n",
       "    .dataframe tbody tr th {\n",
       "        vertical-align: top;\n",
       "    }\n",
       "\n",
       "    .dataframe thead th {\n",
       "        text-align: right;\n",
       "    }\n",
       "</style>\n",
       "<table border=\"1\" class=\"dataframe\">\n",
       "  <thead>\n",
       "    <tr style=\"text-align: right;\">\n",
       "      <th></th>\n",
       "      <th>language</th>\n",
       "      <th>n_tokens</th>\n",
       "      <th>about</th>\n",
       "      <th>actually</th>\n",
       "      <th>after</th>\n",
       "      <th>again</th>\n",
       "      <th>album</th>\n",
       "      <th>all</th>\n",
       "      <th>also</th>\n",
       "      <th>always</th>\n",
       "      <th>...</th>\n",
       "      <th>work</th>\n",
       "      <th>works</th>\n",
       "      <th>world</th>\n",
       "      <th>worth</th>\n",
       "      <th>would</th>\n",
       "      <th>written</th>\n",
       "      <th>year</th>\n",
       "      <th>years</th>\n",
       "      <th>you</th>\n",
       "      <th>your</th>\n",
       "    </tr>\n",
       "  </thead>\n",
       "  <tbody>\n",
       "    <tr>\n",
       "      <th>0</th>\n",
       "      <td>1</td>\n",
       "      <td>80</td>\n",
       "      <td>0</td>\n",
       "      <td>0</td>\n",
       "      <td>0</td>\n",
       "      <td>0</td>\n",
       "      <td>0</td>\n",
       "      <td>1</td>\n",
       "      <td>0</td>\n",
       "      <td>0</td>\n",
       "      <td>...</td>\n",
       "      <td>0</td>\n",
       "      <td>0</td>\n",
       "      <td>0</td>\n",
       "      <td>0</td>\n",
       "      <td>2</td>\n",
       "      <td>0</td>\n",
       "      <td>0</td>\n",
       "      <td>0</td>\n",
       "      <td>0</td>\n",
       "      <td>1</td>\n",
       "    </tr>\n",
       "    <tr>\n",
       "      <th>1</th>\n",
       "      <td>1</td>\n",
       "      <td>97</td>\n",
       "      <td>0</td>\n",
       "      <td>0</td>\n",
       "      <td>0</td>\n",
       "      <td>0</td>\n",
       "      <td>0</td>\n",
       "      <td>0</td>\n",
       "      <td>0</td>\n",
       "      <td>0</td>\n",
       "      <td>...</td>\n",
       "      <td>0</td>\n",
       "      <td>0</td>\n",
       "      <td>0</td>\n",
       "      <td>1</td>\n",
       "      <td>1</td>\n",
       "      <td>0</td>\n",
       "      <td>0</td>\n",
       "      <td>1</td>\n",
       "      <td>1</td>\n",
       "      <td>0</td>\n",
       "    </tr>\n",
       "  </tbody>\n",
       "</table>\n",
       "<p>2 rows × 252 columns</p>\n",
       "</div>"
      ],
      "text/plain": [
       "   language  n_tokens  about  actually  after  again  album  all  also  \\\n",
       "0         1        80      0         0      0      0      0    1     0   \n",
       "1         1        97      0         0      0      0      0    0     0   \n",
       "\n",
       "   always  ...  work  works  world  worth  would  written  year  years  you  \\\n",
       "0       0  ...     0      0      0      0      2        0     0      0    0   \n",
       "1       0  ...     0      0      0      1      1        0     0      1    1   \n",
       "\n",
       "   your  \n",
       "0     1  \n",
       "1     0  \n",
       "\n",
       "[2 rows x 252 columns]"
      ]
     },
     "execution_count": 18,
     "metadata": {},
     "output_type": "execute_result"
    }
   ],
   "source": [
    "X.head(2) # check the first 2 rows of the features dataframe"
   ]
  },
  {
   "cell_type": "code",
   "execution_count": 4,
   "id": "9f152c5f",
   "metadata": {},
   "outputs": [],
   "source": [
    "# Split the data into training and testing sets\n",
    "X_train, X_test, y_train, y_test = train_test_split(X, y, test_size=0.2, random_state=42) # or we can use the training data that we imported earlier"
   ]
  },
  {
   "cell_type": "code",
   "execution_count": 5,
   "id": "d7ec64ad",
   "metadata": {},
   "outputs": [
    {
     "data": {
      "text/html": [
       "<style>#sk-container-id-1 {color: black;background-color: white;}#sk-container-id-1 pre{padding: 0;}#sk-container-id-1 div.sk-toggleable {background-color: white;}#sk-container-id-1 label.sk-toggleable__label {cursor: pointer;display: block;width: 100%;margin-bottom: 0;padding: 0.3em;box-sizing: border-box;text-align: center;}#sk-container-id-1 label.sk-toggleable__label-arrow:before {content: \"▸\";float: left;margin-right: 0.25em;color: #696969;}#sk-container-id-1 label.sk-toggleable__label-arrow:hover:before {color: black;}#sk-container-id-1 div.sk-estimator:hover label.sk-toggleable__label-arrow:before {color: black;}#sk-container-id-1 div.sk-toggleable__content {max-height: 0;max-width: 0;overflow: hidden;text-align: left;background-color: #f0f8ff;}#sk-container-id-1 div.sk-toggleable__content pre {margin: 0.2em;color: black;border-radius: 0.25em;background-color: #f0f8ff;}#sk-container-id-1 input.sk-toggleable__control:checked~div.sk-toggleable__content {max-height: 200px;max-width: 100%;overflow: auto;}#sk-container-id-1 input.sk-toggleable__control:checked~label.sk-toggleable__label-arrow:before {content: \"▾\";}#sk-container-id-1 div.sk-estimator input.sk-toggleable__control:checked~label.sk-toggleable__label {background-color: #d4ebff;}#sk-container-id-1 div.sk-label input.sk-toggleable__control:checked~label.sk-toggleable__label {background-color: #d4ebff;}#sk-container-id-1 input.sk-hidden--visually {border: 0;clip: rect(1px 1px 1px 1px);clip: rect(1px, 1px, 1px, 1px);height: 1px;margin: -1px;overflow: hidden;padding: 0;position: absolute;width: 1px;}#sk-container-id-1 div.sk-estimator {font-family: monospace;background-color: #f0f8ff;border: 1px dotted black;border-radius: 0.25em;box-sizing: border-box;margin-bottom: 0.5em;}#sk-container-id-1 div.sk-estimator:hover {background-color: #d4ebff;}#sk-container-id-1 div.sk-parallel-item::after {content: \"\";width: 100%;border-bottom: 1px solid gray;flex-grow: 1;}#sk-container-id-1 div.sk-label:hover label.sk-toggleable__label {background-color: #d4ebff;}#sk-container-id-1 div.sk-serial::before {content: \"\";position: absolute;border-left: 1px solid gray;box-sizing: border-box;top: 0;bottom: 0;left: 50%;z-index: 0;}#sk-container-id-1 div.sk-serial {display: flex;flex-direction: column;align-items: center;background-color: white;padding-right: 0.2em;padding-left: 0.2em;position: relative;}#sk-container-id-1 div.sk-item {position: relative;z-index: 1;}#sk-container-id-1 div.sk-parallel {display: flex;align-items: stretch;justify-content: center;background-color: white;position: relative;}#sk-container-id-1 div.sk-item::before, #sk-container-id-1 div.sk-parallel-item::before {content: \"\";position: absolute;border-left: 1px solid gray;box-sizing: border-box;top: 0;bottom: 0;left: 50%;z-index: -1;}#sk-container-id-1 div.sk-parallel-item {display: flex;flex-direction: column;z-index: 1;position: relative;background-color: white;}#sk-container-id-1 div.sk-parallel-item:first-child::after {align-self: flex-end;width: 50%;}#sk-container-id-1 div.sk-parallel-item:last-child::after {align-self: flex-start;width: 50%;}#sk-container-id-1 div.sk-parallel-item:only-child::after {width: 0;}#sk-container-id-1 div.sk-dashed-wrapped {border: 1px dashed gray;margin: 0 0.4em 0.5em 0.4em;box-sizing: border-box;padding-bottom: 0.4em;background-color: white;}#sk-container-id-1 div.sk-label label {font-family: monospace;font-weight: bold;display: inline-block;line-height: 1.2em;}#sk-container-id-1 div.sk-label-container {text-align: center;}#sk-container-id-1 div.sk-container {/* jupyter's `normalize.less` sets `[hidden] { display: none; }` but bootstrap.min.css set `[hidden] { display: none !important; }` so we also need the `!important` here to be able to override the default hidden behavior on the sphinx rendered scikit-learn.org. See: https://github.com/scikit-learn/scikit-learn/issues/21755 */display: inline-block !important;position: relative;}#sk-container-id-1 div.sk-text-repr-fallback {display: none;}</style><div id=\"sk-container-id-1\" class=\"sk-top-container\"><div class=\"sk-text-repr-fallback\"><pre>RandomForestClassifier(random_state=42)</pre><b>In a Jupyter environment, please rerun this cell to show the HTML representation or trust the notebook. <br />On GitHub, the HTML representation is unable to render, please try loading this page with nbviewer.org.</b></div><div class=\"sk-container\" hidden><div class=\"sk-item\"><div class=\"sk-estimator sk-toggleable\"><input class=\"sk-toggleable__control sk-hidden--visually\" id=\"sk-estimator-id-1\" type=\"checkbox\" checked><label for=\"sk-estimator-id-1\" class=\"sk-toggleable__label sk-toggleable__label-arrow\">RandomForestClassifier</label><div class=\"sk-toggleable__content\"><pre>RandomForestClassifier(random_state=42)</pre></div></div></div></div></div>"
      ],
      "text/plain": [
       "RandomForestClassifier(random_state=42)"
      ]
     },
     "execution_count": 5,
     "metadata": {},
     "output_type": "execute_result"
    }
   ],
   "source": [
    "# Train a random forest classifier\n",
    "clf = RandomForestClassifier(random_state=42)\n",
    "clf.fit(X_train, y_train)"
   ]
  },
  {
   "cell_type": "code",
   "execution_count": 7,
   "id": "2e12fa8f",
   "metadata": {},
   "outputs": [
    {
     "data": {
      "text/plain": [
       "['E:/trained_classifier.joblib']"
      ]
     },
     "execution_count": 7,
     "metadata": {},
     "output_type": "execute_result"
    }
   ],
   "source": [
    "# save the trained classifier as a file using joblib to be used later and avoid retraining the model\n",
    "\n",
    "from joblib import dump # import dump from joblib\n",
    "\n",
    "# Save the trained classifier as a file\n",
    "# dump(clf, 'trained_classifier.joblib')\n",
    "\n",
    "# Save the trained classifier as a file in the E drive\n",
    "dump(clf, 'E:/trained_classifier.joblib') # as there is no space in c drive to save the file so I saved it in the E drive instead of the C drive to avoid errors"
   ]
  },
  {
   "cell_type": "code",
   "execution_count": null,
   "id": "246502c6",
   "metadata": {},
   "outputs": [],
   "source": [
    "# Load the saved classifier from file using joblib\n",
    "\n",
    "from joblib import load # import load from joblib\n",
    "\n",
    "# Load the saved classifier from file\n",
    "clf = load('E:/trained_classifier.joblib')"
   ]
  },
  {
   "cell_type": "code",
   "execution_count": 8,
   "id": "c9f72722",
   "metadata": {},
   "outputs": [],
   "source": [
    "# Make predictions on the testing set\n",
    "y_pred = clf.predict(X_test)"
   ]
  },
  {
   "cell_type": "code",
   "execution_count": 9,
   "id": "5d3ce585",
   "metadata": {},
   "outputs": [
    {
     "name": "stdout",
     "output_type": "stream",
     "text": [
      "Accuracy: 0.8095805555555555\n"
     ]
    }
   ],
   "source": [
    "# Evaluate the model using accuracy as the performance metric\n",
    "accuracy = accuracy_score(y_test, y_pred)\n",
    "print(\"Accuracy:\", accuracy)"
   ]
  },
  {
   "attachments": {},
   "cell_type": "markdown",
   "id": "b4050a08",
   "metadata": {},
   "source": [
    "---\n",
    "\n",
    "# End of Assignment\n",
    "\n",
    "Student Name: Loai Siwas"
   ]
  }
 ],
 "metadata": {
  "kernelspec": {
   "display_name": "Python 3 (ipykernel)",
   "language": "python",
   "name": "python3"
  },
  "language_info": {
   "codemirror_mode": {
    "name": "ipython",
    "version": 3
   },
   "file_extension": ".py",
   "mimetype": "text/x-python",
   "name": "python",
   "nbconvert_exporter": "python",
   "pygments_lexer": "ipython3",
   "version": "3.8.16"
  },
  "vp": {
   "vp_config_version": "1.0.0",
   "vp_menu_width": 273,
   "vp_note_display": false,
   "vp_note_width": 0,
   "vp_position": {
    "width": 278
   },
   "vp_section_display": true,
   "vp_signature": "VisualPython"
  }
 },
 "nbformat": 4,
 "nbformat_minor": 5
}
